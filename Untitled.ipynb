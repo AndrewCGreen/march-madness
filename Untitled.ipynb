{
 "cells": [
  {
   "cell_type": "code",
   "execution_count": 25,
   "metadata": {},
   "outputs": [],
   "source": [
    "import pandas as pd\n",
    "\n",
    "def solution(inputTable):\n",
    "    df = pd.DataFrame(inputTable, columns=[\"City\",\"Category\",\"Count\"])\n",
    "    print(df)\n",
    "    new_dict = {}\n",
    "    for i in df[\"City\"].unique():\n",
    "        df_cit = df[df[\"City\"]==i]\n",
    "        new_dict[i] = {}\n",
    "        for j in df_cit[\"Cateogry\"].unique():\n",
    "            new_dict[i][j] = \n",
    "    df_sln = pd.DataFrame(df.groupby([\"City\"]))\n",
    "    print(df_sln)\n",
    "    return df_sln"
   ]
  },
  {
   "cell_type": "code",
   "execution_count": 26,
   "metadata": {},
   "outputs": [],
   "source": [
    "inputTable = [[\"Boston\", \"Mexican\", \"163\"], [\"Boston\", \"Seafood\", \"194\"], [\"Los Angeles\", \"American\", \"1239\"], [\"Los Angeles\", \"Mexican\", \"1389\"], [\"Los Angeles\", \"Seafood\", \"456\"]]"
   ]
  },
  {
   "cell_type": "code",
   "execution_count": 27,
   "metadata": {},
   "outputs": [
    {
     "name": "stdout",
     "output_type": "stream",
     "text": [
      "          City  Category Count\n",
      "0       Boston   Mexican   163\n",
      "1       Boston   Seafood   194\n",
      "2  Los Angeles  American  1239\n",
      "3  Los Angeles   Mexican  1389\n",
      "4  Los Angeles   Seafood   456\n",
      "             0                                                  1\n",
      "0       Boston       City Category Count\n",
      "0  Boston  Mexican   ...\n",
      "1  Los Angeles            City  Category Count\n",
      "2  Los Angeles ...\n"
     ]
    },
    {
     "data": {
      "text/html": [
       "<div>\n",
       "<style scoped>\n",
       "    .dataframe tbody tr th:only-of-type {\n",
       "        vertical-align: middle;\n",
       "    }\n",
       "\n",
       "    .dataframe tbody tr th {\n",
       "        vertical-align: top;\n",
       "    }\n",
       "\n",
       "    .dataframe thead th {\n",
       "        text-align: right;\n",
       "    }\n",
       "</style>\n",
       "<table border=\"1\" class=\"dataframe\">\n",
       "  <thead>\n",
       "    <tr style=\"text-align: right;\">\n",
       "      <th></th>\n",
       "      <th>0</th>\n",
       "      <th>1</th>\n",
       "    </tr>\n",
       "  </thead>\n",
       "  <tbody>\n",
       "    <tr>\n",
       "      <td>0</td>\n",
       "      <td>Boston</td>\n",
       "      <td>City Category Count\n",
       "0  Boston  Mexican   ...</td>\n",
       "    </tr>\n",
       "    <tr>\n",
       "      <td>1</td>\n",
       "      <td>Los Angeles</td>\n",
       "      <td>City  Category Count\n",
       "2  Los Angeles ...</td>\n",
       "    </tr>\n",
       "  </tbody>\n",
       "</table>\n",
       "</div>"
      ],
      "text/plain": [
       "             0                                                  1\n",
       "0       Boston       City Category Count\n",
       "0  Boston  Mexican   ...\n",
       "1  Los Angeles            City  Category Count\n",
       "2  Los Angeles ..."
      ]
     },
     "execution_count": 27,
     "metadata": {},
     "output_type": "execute_result"
    }
   ],
   "source": [
    "solution(inputTable)"
   ]
  },
  {
   "cell_type": "code",
   "execution_count": 69,
   "metadata": {},
   "outputs": [],
   "source": [
    "def sln (inputTable):\n",
    "    new_dict = {}\n",
    "    for row in inputTable:\n",
    "        city = row[0]\n",
    "        category = row[1]\n",
    "        count = row[2]\n",
    "        if city not in new_dict:\n",
    "            new_dict[city] = {}\n",
    "        new_dict[city][category] = count\n",
    "    df = pd.DataFrame.from_dict(sl, orient=\"index\")\n",
    "    df = df.sort_index()\n",
    "    df = df[sorted(list(df))]\n",
    "    df= df.fillna(0)\n",
    "    df = df.astype(int)\n",
    "    return df.values.tolist()"
   ]
  },
  {
   "cell_type": "code",
   "execution_count": 70,
   "metadata": {},
   "outputs": [
    {
     "data": {
      "text/plain": [
       "[[0, 163, 194], [1239, 1389, 456]]"
      ]
     },
     "execution_count": 70,
     "metadata": {},
     "output_type": "execute_result"
    }
   ],
   "source": [
    "sln(inputTable)"
   ]
  },
  {
   "cell_type": "code",
   "execution_count": 68,
   "metadata": {},
   "outputs": [],
   "source": [
    "df = pd.DataFrame.from_dict(sl, orient=\"index\")"
   ]
  },
  {
   "cell_type": "code",
   "execution_count": 50,
   "metadata": {},
   "outputs": [],
   "source": []
  },
  {
   "cell_type": "code",
   "execution_count": 62,
   "metadata": {},
   "outputs": [],
   "source": []
  },
  {
   "cell_type": "code",
   "execution_count": 63,
   "metadata": {},
   "outputs": [
    {
     "data": {
      "text/plain": [
       "[[0, '163', '194'], ['1239', '1389', '456']]"
      ]
     },
     "execution_count": 63,
     "metadata": {},
     "output_type": "execute_result"
    }
   ],
   "source": [
    "df.values.tolist()"
   ]
  },
  {
   "cell_type": "code",
   "execution_count": null,
   "metadata": {},
   "outputs": [],
   "source": []
  }
 ],
 "metadata": {
  "kernelspec": {
   "display_name": "Python 3",
   "language": "python",
   "name": "python3"
  },
  "language_info": {
   "codemirror_mode": {
    "name": "ipython",
    "version": 3
   },
   "file_extension": ".py",
   "mimetype": "text/x-python",
   "name": "python",
   "nbconvert_exporter": "python",
   "pygments_lexer": "ipython3",
   "version": "3.7.4"
  }
 },
 "nbformat": 4,
 "nbformat_minor": 2
}
